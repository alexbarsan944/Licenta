{
 "cells": [
  {
   "cell_type": "code",
   "execution_count": 1,
   "metadata": {
    "collapsed": true
   },
   "outputs": [
    {
     "name": "stdout",
     "output_type": "stream",
     "text": [
      "-- costi\n"
     ]
    }
   ],
   "source": [
    "from face_recognition.web_predict_auth_all import predict\n",
    "from face_recognition.web_predict_auth_single import predict as predict_single\n",
    "\n",
    "faces, time, frames_taken, approved, name = None, None, None, None, None\n",
    "\n",
    "method = input('(1) Auth all\\n(2) Auth single')\n",
    "if method == '2':  # Single\n",
    "    name = input('Enter your name')\n",
    "    faces, time, frames_taken, approved = predict_single(name, frames_count=10)\n",
    "elif method == '1':\n",
    "    faces, time, frames_taken, approved = predict(frames_count=10)\n",
    "else:\n",
    "    exit(1)"
   ]
  },
  {
   "cell_type": "code",
   "execution_count": 2,
   "outputs": [],
   "source": [
    "\n",
    "if approved:\n",
    "    print(f'Approved in {round(time, 2)} seconds and in {frames_taken} frames')"
   ],
   "metadata": {
    "collapsed": false,
    "pycharm": {
     "name": "#%%\n"
    }
   }
  }
 ],
 "metadata": {
  "kernelspec": {
   "display_name": "Python 3",
   "language": "python",
   "name": "python3"
  },
  "language_info": {
   "codemirror_mode": {
    "name": "ipython",
    "version": 2
   },
   "file_extension": ".py",
   "mimetype": "text/x-python",
   "name": "python",
   "nbconvert_exporter": "python",
   "pygments_lexer": "ipython2",
   "version": "2.7.6"
  }
 },
 "nbformat": 4,
 "nbformat_minor": 0
}