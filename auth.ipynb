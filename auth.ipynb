{
 "cells": [
  {
   "cell_type": "code",
   "execution_count": 1,
   "metadata": {
    "collapsed": true
   },
   "outputs": [
    {
     "name": "stdout",
     "output_type": "stream",
     "text": [
      "-- costi\n",
      "name= costi\n",
      "name= costi\n",
      "name= costi\n",
      "name= costi\n",
      "name= costi\n",
      "name= costi\n",
      "name= costi\n",
      "name= costi\n",
      "name= costi\n",
      "name= costi\n",
      "name= costi\n",
      "name= costi\n",
      "name= costi\n",
      "name= costi\n",
      "name= costi\n",
      "name= costi\n",
      "name= costi\n",
      "name= costi\n",
      "name= costi\n",
      "name= costi\n",
      "name= costi\n",
      "name= costi\n",
      "name= costi\n",
      "name= costi\n",
      "name= costi\n",
      "name= costi\n",
      "name= costi\n",
      "name= costi\n",
      "name= costi\n",
      "name= costi\n",
      "name= costi\n",
      "name= costi\n",
      "name= costi\n",
      "name= costi\n",
      "name= costi\n",
      "name= costi\n",
      "name= costi\n",
      "name= costi\n",
      "name= costi\n",
      "name= costi\n",
      "name= costi\n",
      "name= costi\n",
      "name= costi\n",
      "name= costi\n",
      "name= costi\n",
      "name= costi\n",
      "name= costi\n",
      "name= costi\n",
      "name= costi\n",
      "name= costi\n",
      "name= costi\n",
      "name= costi\n",
      "name= costi\n",
      "name= costi\n",
      "name= costi\n",
      "name= costi\n",
      "name= costi\n",
      "name= costi\n",
      "name= costi\n",
      "name= costi\n",
      "name= costi\n",
      "name= costi\n",
      "name= costi\n",
      "name= costi\n",
      "name= costi\n",
      "name= costi\n",
      "name= costi\n",
      "name= costi\n",
      "name= costi\n",
      "name= costi\n",
      "name= costi\n",
      "name= costi\n"
     ]
    }
   ],
   "source": [
    "from face_recognition.web_predict_auth import predict\n",
    "\n",
    "name = input('Enter your name')\n",
    "faces, time, frames_taken, approved = predict(name, frames_count=10)\n",
    "\n"
   ]
  },
  {
   "cell_type": "code",
   "execution_count": 2,
   "outputs": [
    {
     "name": "stdout",
     "output_type": "stream",
     "text": [
      "Accuracy 0.0 %\n"
     ]
    }
   ],
   "source": [
    "import numpy as np\n",
    "\n",
    "print('Accuracy', faces.count(name) * 100 / len(faces), '%')\n",
    "\n",
    "if approved:\n",
    "    print(f'Approved in {round(time, 2)} seconds and in {frames_taken} frames')"
   ],
   "metadata": {
    "collapsed": false,
    "pycharm": {
     "name": "#%%\n"
    }
   }
  }
 ],
 "metadata": {
  "kernelspec": {
   "display_name": "Python 3",
   "language": "python",
   "name": "python3"
  },
  "language_info": {
   "codemirror_mode": {
    "name": "ipython",
    "version": 2
   },
   "file_extension": ".py",
   "mimetype": "text/x-python",
   "name": "python",
   "nbconvert_exporter": "python",
   "pygments_lexer": "ipython2",
   "version": "2.7.6"
  }
 },
 "nbformat": 4,
 "nbformat_minor": 0
}