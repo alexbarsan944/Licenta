{
 "cells": [
  {
   "cell_type": "code",
   "execution_count": 13,
   "metadata": {
    "collapsed": true
   },
   "outputs": [
    {
     "name": "stdout",
     "output_type": "stream",
     "text": [
      "[0, 1, 2, 3, 4, 5, 6, 7, 8, 9, 10, 11, 12, 13, 14, 15, 16, 17, 18, 19, 20, 21, 22, 23, 24, 25, 26, 27, 28, 29, 30, 31, 32, 33, 34, 35, 36, 37, 38, 39, 40, 41, 42, 43, 44, 45, 46, 47, 48, 49]\n",
      "[2]\n",
      "[2, 3]\n",
      "[2, 3, 2]\n",
      "[2, 3, 2, 3]\n",
      "{'Alex': [0, 1], 'b': [2, 3, 4], 'c': [5, 6], 'd': [7, 8, 9]}\n"
     ]
    }
   ],
   "source": [
    "ranger = [j for j in range(50)]\n",
    "maps_list = {}\n",
    "print(ranger)\n",
    "counter = {\n",
    "    \"Alex\": 2,\n",
    "    \"b\": 3,\n",
    "    'c': 2,\n",
    "    'd': 3\n",
    "}\n",
    "\n",
    "queue = []\n",
    "for i, (k, v) in enumerate(counter.items()):\n",
    "    temp = []\n",
    "    queue.append(v)\n",
    "    if len(queue) < 2:\n",
    "        for idx in range(0, v):\n",
    "            temp.append(ranger[idx])\n",
    "    else:\n",
    "        for idx in range(sum(queue) - v, sum(queue)):\n",
    "            temp.append(ranger[idx])\n",
    "    print(queue)\n",
    "    maps_list[k] = temp\n",
    "\n",
    "print(maps_list)\n",
    "# for idx, (k, v) in enumerate(counter.items()):\n",
    "#     if idx == 0:\n",
    "#         maps_list[k] = list(counter.values())[idx]\n",
    "#         print(list(counter.values())[idx])"
   ]
  }
 ],
 "metadata": {
  "kernelspec": {
   "display_name": "Python 3",
   "language": "python",
   "name": "python3"
  },
  "language_info": {
   "codemirror_mode": {
    "name": "ipython",
    "version": 2
   },
   "file_extension": ".py",
   "mimetype": "text/x-python",
   "name": "python",
   "nbconvert_exporter": "python",
   "pygments_lexer": "ipython2",
   "version": "2.7.6"
  }
 },
 "nbformat": 4,
 "nbformat_minor": 0
}