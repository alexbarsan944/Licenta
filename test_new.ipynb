{
 "cells": [
  {
   "cell_type": "code",
   "execution_count": 1,
   "metadata": {
    "collapsed": true
   },
   "outputs": [
    {
     "name": "stdout",
     "output_type": "stream",
     "text": [
      "Writing frame 160 / 792 Accuracy=100.0%\n",
      "Writing frame 170 / 792 Accuracy=100.0%\n",
      "Writing frame 180 / 792 Accuracy=100.0%\n",
      "Writing frame 190 / 792 Accuracy=100.0%\n",
      "Writing frame 200 / 792 Accuracy=100.0%\n",
      "Writing frame 210 / 792 Accuracy=100.0%\n",
      "Writing frame 220 / 792 Accuracy=100.0%\n",
      "Writing frame 230 / 792 Accuracy=100.0%\n",
      "Writing frame 350 / 792 Accuracy=97.77777777777777%\n",
      "Writing frame 440 / 792 Accuracy=97.95918367346938%\n",
      "Writing frame 470 / 792 Accuracy=98.0%\n",
      "Writing frame 510 / 792 Accuracy=98.14814814814815%\n",
      "Writing frame 630 / 792 Accuracy=98.18181818181819%\n",
      "Writing frame 640 / 792 Accuracy=96.61016949152543%\n",
      "Done.\n"
     ]
    }
   ],
   "source": [
    "import pickle\n",
    "\n",
    "import matplotlib.pyplot as plt\n",
    "import promptlib\n",
    "import seaborn as sns\n",
    "\n",
    "from face_recognition.api import get_known_people_from_encodings, get_known_people_from_dataset\n",
    "from face_recognition.web_prediction import predict\n",
    "from test.video_prediction import produce_video\n",
    "\n",
    "method = input('Test by:\\n (1) Webcam\\n(2) video')\n",
    "output_faces = []\n",
    "person_name = ''\n",
    "\n",
    "if method != '1' and method != '2':\n",
    "    exit(1)\n",
    "elif method == '1':\n",
    "    name = input(\"Enter your name: \")\n",
    "    faces = predict()\n",
    "    names_in_db = get_known_people_from_dataset()\n",
    "    x = {}\n",
    "    print(faces)\n",
    "    for nume in names_in_db:\n",
    "        x[nume] = (faces.count(nume))\n",
    "    x['unknown'] = faces.count('unknown')\n",
    "    print(x)\n",
    "    keys = [j for j in x.keys()]\n",
    "    values = [j for j in x.values()]\n",
    "\n",
    "    sns.set_style('dark')\n",
    "    acc = x[name] * 100 / sum(values)\n",
    "\n",
    "    sns.barplot(x=values, y=keys).set_title(f'{name.capitalize()} - acc: {acc}%')\n",
    "    plt.show()\n",
    "\n",
    "    print(x)\n",
    "    exit(5)\n",
    "elif method == '2':\n",
    "    prompter = promptlib.Files()\n",
    "    abs_path_to_video = prompter.file()\n",
    "    should_be = input(\"Please enter person name:\")\n",
    "    file_name = abs_path_to_video.split('.')[0].split('/')[-1]\n",
    "    output_faces = produce_video(abs_path_to_video, should_be)\n",
    "    prompter.dst()\n",
    "\n",
    "    print('Done.')\n"
   ]
  },
  {
   "cell_type": "code",
   "execution_count": 2,
   "outputs": [
    {
     "name": "stdout",
     "output_type": "stream",
     "text": [
      "96.72131147540983\n",
      "['daniel', {'stefan': 4, 'yt4': 0, 'diana': 0, 'f': 0, 'tomsa_s': 0, 'costis': 0, 'raluca': 0, 'cosmin': 0, 'yt2': 0, 'costi': 0, 'alex': 0, 'yt3': 0, 'test_person_1': 0, 'twin2': 0, 'daniel': 118, 'twin1': 0, 'yt1': 0, 'mom': 0, 'ioana': 0, 'andra': 0, 'raed': 0, 'unknown': 0}, 96.72131147540983]\n"
     ]
    }
   ],
   "source": [
    "import os\n",
    "\n",
    "\n",
    "def return_results(output_faces, should_be):\n",
    "    for i in range(len(output_faces)):\n",
    "        output_faces[i] = output_faces[i].lower()\n",
    "\n",
    "    if len(output_faces) == 0:\n",
    "        print('No faces found')\n",
    "        output_faces = []\n",
    "\n",
    "    acc = output_faces.count(should_be) * 100 / len(output_faces)\n",
    "    print(acc)\n",
    "\n",
    "    known_encodings = get_known_people_from_encodings()\n",
    "    for i in range(len(known_encodings)):\n",
    "        known_encodings[i] = known_encodings[i].lower()\n",
    "\n",
    "    names = {}\n",
    "    for name in known_encodings:\n",
    "        names[name] = output_faces.count(name.lower())\n",
    "    names['unknown'] = output_faces.count('unknown')\n",
    "    return [file_name.lower(), names, acc]\n",
    "\n",
    "\n",
    "list = []\n",
    "if len(output_faces) == 0:\n",
    "    list[1] = 'noface'\n",
    "else:\n",
    "    list = return_results(output_faces, should_be)\n",
    "print(list)\n",
    "\n",
    "if len(output_faces) == 0:\n",
    "    list[1] = 'noface'\n",
    "try:\n",
    "    os.mkdir(f'results/{should_be}')\n",
    "except OSError:\n",
    "    print(\"Creation of the directory %s failed\" % should_be)\n",
    "\n",
    "with open(f'results/{should_be}/{list[0]}.data', 'wb') as filehandle:\n",
    "    # store the data as binary data stream\n",
    "    pickle.dump(list, filehandle)"
   ],
   "metadata": {
    "collapsed": false,
    "pycharm": {
     "name": "#%%\n"
    }
   }
  },
  {
   "cell_type": "code",
   "execution_count": 3,
   "outputs": [],
   "source": [
    "\n",
    "import pickle\n",
    "import matplotlib.pyplot as plt\n",
    "import os\n",
    "import seaborn as sns\n",
    "\n",
    "\n",
    "def plot_all_data():\n",
    "    directory = 'results'\n",
    "    objs = []\n",
    "    for filename in os.listdir(directory):\n",
    "        f = os.path.join(directory, filename)\n",
    "        if os.path.isfile(f) and filename.endswith('data'):\n",
    "            with open(f, 'rb') as filehandle:\n",
    "                # read the data as binary data stream\n",
    "                while 1:\n",
    "                    try:\n",
    "                        objs.append(pickle.load(filehandle))\n",
    "                    except EOFError:\n",
    "                        break\n",
    "    sns.set_style('darkgrid')\n",
    "    for results in objs:\n",
    "        actual_name = results[0]\n",
    "        output_faces = results[1]\n",
    "        if output_faces == 'noface':\n",
    "            sns.barplot(x=values, y=keys).set_title(actual_name + '- no face found')\n",
    "            plt.show()\n",
    "        else:\n",
    "            acc = results[2]\n",
    "            print('Accuracy= ', acc, '%')\n",
    "\n",
    "            keys = [j for j in output_faces.keys()]\n",
    "            values = [j for j in output_faces.values()]\n",
    "            if actual_name == 'yt3(2)':\n",
    "                sns.barplot(x=values, y=keys).set_title(actual_name + 'interchanged train with test')\n",
    "            else:\n",
    "                sns.barplot(x=values, y=keys).set_title(actual_name)\n",
    "\n",
    "            plt.show()\n",
    "\n",
    "\n",
    "plot_all_data()"
   ],
   "metadata": {
    "collapsed": false,
    "pycharm": {
     "name": "#%%\n"
    }
   }
  }
 ],
 "metadata": {
  "kernelspec": {
   "display_name": "Python 3",
   "language": "python",
   "name": "python3"
  },
  "language_info": {
   "codemirror_mode": {
    "name": "ipython",
    "version": 2
   },
   "file_extension": ".py",
   "mimetype": "text/x-python",
   "name": "python",
   "nbconvert_exporter": "python",
   "pygments_lexer": "ipython2",
   "version": "2.7.6"
  }
 },
 "nbformat": 4,
 "nbformat_minor": 0
}