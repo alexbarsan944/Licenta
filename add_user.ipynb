{
 "cells": [
  {
   "cell_type": "markdown",
   "source": [
    "## Add a new person"
   ],
   "metadata": {
    "collapsed": false
   }
  },
  {
   "cell_type": "code",
   "execution_count": 3,
   "outputs": [],
   "source": [
    "from processor.get_pictures_webcam import get_pictures\n",
    "from pkg_resources import resource_filename\n",
    "import os\n",
    "from face_recognition.store_data import store_face_encodings\n",
    "import promptlib\n",
    "from test.video_prediction import produce_video\n",
    "\n",
    "method = input('Add person by:\\n (1) Webcam\\n(2) mp4')\n",
    "\n",
    "if method == '1':  # Webcam\n",
    "    name = input('Enter your name: ')\n",
    "    path = os.path.abspath('./dataset')\n",
    "    try:\n",
    "        os.mkdir(path + '/' + name)\n",
    "    except OSError:\n",
    "        print(\"Creation of the directory %s failed\" % name)\n",
    "        exit(2)\n",
    "    else:\n",
    "        print(\"Successfully created the directory %s \" % name)\n",
    "    get_pictures(name)\n",
    "\n",
    "    print('Adding face encodings to DB ...\\n')\n",
    "\n",
    "    pass\n",
    "elif method == '2':  # mp4\n",
    "    prompter = promptlib.Files()\n",
    "    file = prompter.file()\n",
    "    person_name = ''\n",
    "    if file.endswith('mp4'):  # add it to known videos\n",
    "        person_name = str(file).split('.mp4')[0].split('/')[-1]\n",
    "        type = input('Type:\\n (1) Known\\n(2) Unknown')\n",
    "        abs_to_move = None\n",
    "        if type == '1':\n",
    "            abs_to_move = os.path.abspath('./test/videos/known')\n",
    "        elif type == '2':\n",
    "            abs_to_move = os.path.abspath('./test/videos/unknown')\n",
    "        else:\n",
    "            print('Wrong command')\n",
    "            exit(3)\n",
    "        print(file)\n",
    "\n",
    "        # os.rename(file, abs_to_move + '/' + person_name + '.mp4')\n",
    "        # produce_video(person_name + '.mp4')\n",
    "        # print(file, abs_to_move)\n",
    "\n",
    "else:\n",
    "    print('Invalid command')\n",
    "    pass"
   ],
   "metadata": {
    "collapsed": false,
    "pycharm": {
     "name": "#%%\n"
    }
   }
  },
  {
   "cell_type": "markdown",
   "source": [],
   "metadata": {
    "collapsed": false
   }
  },
  {
   "cell_type": "code",
   "execution_count": 4,
   "outputs": [
    {
     "name": "stdout",
     "output_type": "stream",
     "text": [
      "1\n"
     ]
    }
   ],
   "source": [
    "print(1)"
   ],
   "metadata": {
    "collapsed": false,
    "pycharm": {
     "name": "#%%\n"
    }
   }
  }
 ],
 "metadata": {
  "kernelspec": {
   "display_name": "Python 3",
   "language": "python",
   "name": "python3"
  },
  "language_info": {
   "codemirror_mode": {
    "name": "ipython",
    "version": 2
   },
   "file_extension": ".py",
   "mimetype": "text/x-python",
   "name": "python",
   "nbconvert_exporter": "python",
   "pygments_lexer": "ipython2",
   "version": "2.7.6"
  }
 },
 "nbformat": 4,
 "nbformat_minor": 0
}