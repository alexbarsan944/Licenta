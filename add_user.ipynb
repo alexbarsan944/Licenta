{
 "cells": [
  {
   "cell_type": "markdown",
   "source": [
    "## Add a new person"
   ],
   "metadata": {
    "collapsed": false
   }
  },
  {
   "cell_type": "code",
   "execution_count": 2,
   "outputs": [
    {
     "name": "stdout",
     "output_type": "stream",
     "text": [
      "Invalid command\n"
     ]
    }
   ],
   "source": [
    "from processor.get_pictures_webcam import get_pictures\n",
    "from face_recognition.api import *\n",
    "from processor.store_data import *\n",
    "from pkg_resources import resource_filename\n",
    "import os\n",
    "import promptlib\n",
    "from time import sleep\n",
    "from test.video_prediction import produce_video\n",
    "\n",
    "\n",
    "method = input('Add person by:\\n (1) Webcam\\n(2) mp4')\n",
    "\n",
    "# TODO : append pictures taken with webcam -------------------------------\n",
    "if method == '1':  # Webcam\n",
    "    name = input('Enter your name: ')\n",
    "    path = os.path.abspath('./dataset')\n",
    "    try:\n",
    "        os.mkdir(path + '/' + name)\n",
    "    except OSError:\n",
    "        print(\"Creation of the directory %s failed\" % name)\n",
    "        exit(2)\n",
    "    else:\n",
    "        print(\"Successfully created the directory %s \" % name)\n",
    "    get_pictures(name)\n",
    "\n",
    "    print('Adding face encodings to DB ...\\n')\n",
    "    store_face_encodings_all()\n",
    "\n",
    "    pass\n",
    "elif method == '2':  # mp4\n",
    "    prompter = promptlib.Files()\n",
    "    abs_path_to_video = prompter.file()\n",
    "    person_name = ''\n",
    "    if abs_path_to_video.endswith('mp4') or abs_path_to_video.endswith('mov'):  # add it to known videos\n",
    "        person_name = str(abs_path_to_video).split('.mp4')[0].split('/')[-1]\n",
    "        known_people = get_known_people_from_dataset()\n",
    "        if person_name in known_people:\n",
    "            _ = input('This person exists in DB. Do you want to append images to already existing directory?\\n (y/n)')\n",
    "            if _ == 'n':\n",
    "                exit(4)\n",
    "            elif _ == 'y':\n",
    "                dataset_name_location = get_path_form_name(person_name)\n",
    "                print(dataset_name_location)\n",
    "                video_pic_convertor(abs_path_to_video, dataset_name_location)\n",
    "                store_face_encodings_all()\n",
    "            else:\n",
    "                exit(5)\n",
    "        else:\n",
    "            os.mkdir(\"dataset/\" + person_name)\n",
    "            new_directory_name = resource_filename(__name__, \"dataset/\" + person_name)\n",
    "            dataset_name_location = os.path.abspath(new_directory_name)\n",
    "            video_pic_convertor(abs_path_to_video, dataset_name_location)\n",
    "            sleep(1)\n",
    "            store_face_encodings_all()\n",
    "            pass\n",
    "        # type = input('Type:\\n (1) Known\\n(2) Unknown')\n",
    "        # abs_to_move = None\n",
    "        # if type == '1':\n",
    "        #     abs_to_move = os.path.abspath('./test/videos/known')\n",
    "        # elif type == '2':\n",
    "        #     abs_to_move = os.path.abspath('./test/videos/unknown')\n",
    "        # else:\n",
    "        #     print('Wrong command')\n",
    "        #     exit(3)\n",
    "        # print(file)\n",
    "\n",
    "        # os.rename(file, abs_to_move + '/' + person_name + '.mp4')\n",
    "        # produce_video(person_name + '.mp4')\n",
    "        # print(file, abs_to_move)\n",
    "\n",
    "else:\n",
    "    print('Invalid command')\n",
    "    pass"
   ],
   "metadata": {
    "collapsed": false,
    "pycharm": {
     "name": "#%%\n"
    }
   }
  },
  {
   "cell_type": "markdown",
   "source": [],
   "metadata": {
    "collapsed": false
   }
  },
  {
   "cell_type": "code",
   "execution_count": 2,
   "outputs": [],
   "source": [
    "\n"
   ],
   "metadata": {
    "collapsed": false,
    "pycharm": {
     "name": "#%%\n"
    }
   }
  }
 ],
 "metadata": {
  "kernelspec": {
   "display_name": "Python 3",
   "language": "python",
   "name": "python3"
  },
  "language_info": {
   "codemirror_mode": {
    "name": "ipython",
    "version": 2
   },
   "file_extension": ".py",
   "mimetype": "text/x-python",
   "name": "python",
   "nbconvert_exporter": "python",
   "pygments_lexer": "ipython2",
   "version": "2.7.6"
  }
 },
 "nbformat": 4,
 "nbformat_minor": 0
}