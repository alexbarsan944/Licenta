{
 "cells": [
  {
   "cell_type": "markdown",
   "source": [
    "## Add a new person"
   ],
   "metadata": {
    "collapsed": false
   }
  },
  {
   "cell_type": "code",
   "execution_count": 1,
   "outputs": [],
   "source": [
    "def get_full_path_dir(dir):\n",
    "    path = (os.path.expanduser('~/Documents/GitHub/Licenta'))\n",
    "    for dirpath, dirnames, filenames in os.walk(path):\n",
    "        if dir in dirnames:\n",
    "            print(dir)\n",
    "            return os.path.join(dirpath, dir)\n",
    "    return None"
   ],
   "metadata": {
    "collapsed": false,
    "pycharm": {
     "name": "#%%\n"
    }
   }
  },
  {
   "cell_type": "code",
   "execution_count": 2,
   "outputs": [
    {
     "name": "stdout",
     "output_type": "stream",
     "text": [
      "yt5\n",
      "Read a new frame:  True /Users/alexandrubarsan/Documents/GitHub/Licenta/dataset/yt5/frame0.jpg\n",
      "Read a new frame:  True /Users/alexandrubarsan/Documents/GitHub/Licenta/dataset/yt5/frame10.jpg\n",
      "Read a new frame:  True /Users/alexandrubarsan/Documents/GitHub/Licenta/dataset/yt5/frame20.jpg\n",
      "Read a new frame:  True /Users/alexandrubarsan/Documents/GitHub/Licenta/dataset/yt5/frame30.jpg\n",
      "Read a new frame:  True /Users/alexandrubarsan/Documents/GitHub/Licenta/dataset/yt5/frame40.jpg\n",
      "Read a new frame:  True /Users/alexandrubarsan/Documents/GitHub/Licenta/dataset/yt5/frame50.jpg\n",
      "Read a new frame:  True /Users/alexandrubarsan/Documents/GitHub/Licenta/dataset/yt5/frame60.jpg\n",
      "Read a new frame:  True /Users/alexandrubarsan/Documents/GitHub/Licenta/dataset/yt5/frame70.jpg\n",
      "Read a new frame:  True /Users/alexandrubarsan/Documents/GitHub/Licenta/dataset/yt5/frame80.jpg\n",
      "Read a new frame:  True /Users/alexandrubarsan/Documents/GitHub/Licenta/dataset/yt5/frame90.jpg\n",
      "Read a new frame:  True /Users/alexandrubarsan/Documents/GitHub/Licenta/dataset/yt5/frame100.jpg\n",
      "Read a new frame:  True /Users/alexandrubarsan/Documents/GitHub/Licenta/dataset/yt5/frame110.jpg\n",
      "Read a new frame:  True /Users/alexandrubarsan/Documents/GitHub/Licenta/dataset/yt5/frame120.jpg\n",
      "Read a new frame:  True /Users/alexandrubarsan/Documents/GitHub/Licenta/dataset/yt5/frame130.jpg\n",
      "Read a new frame:  True /Users/alexandrubarsan/Documents/GitHub/Licenta/dataset/yt5/frame140.jpg\n",
      "Read a new frame:  True /Users/alexandrubarsan/Documents/GitHub/Licenta/dataset/yt5/frame150.jpg\n",
      "Read a new frame:  True /Users/alexandrubarsan/Documents/GitHub/Licenta/dataset/yt5/frame160.jpg\n",
      "Read a new frame:  True /Users/alexandrubarsan/Documents/GitHub/Licenta/dataset/yt5/frame170.jpg\n",
      "Read a new frame:  True /Users/alexandrubarsan/Documents/GitHub/Licenta/dataset/yt5/frame180.jpg\n",
      "Read a new frame:  True /Users/alexandrubarsan/Documents/GitHub/Licenta/dataset/yt5/frame190.jpg\n",
      "Read a new frame:  True /Users/alexandrubarsan/Documents/GitHub/Licenta/dataset/yt5/frame200.jpg\n",
      "Read a new frame:  True /Users/alexandrubarsan/Documents/GitHub/Licenta/dataset/yt5/frame210.jpg\n",
      "Read a new frame:  True /Users/alexandrubarsan/Documents/GitHub/Licenta/dataset/yt5/frame220.jpg\n",
      "Read a new frame:  True /Users/alexandrubarsan/Documents/GitHub/Licenta/dataset/yt5/frame230.jpg\n",
      "yt5\n",
      "10\n",
      "20\n",
      "30\n",
      "40\n",
      "50\n",
      "60\n",
      "70\n",
      "80\n",
      "90\n",
      "100\n",
      "110\n",
      "120\n",
      "130\n",
      "140\n",
      "150\n",
      "160\n",
      "170\n",
      "180\n",
      "190\n",
      "200\n",
      "210\n",
      "220\n",
      "230\n",
      "(4932, 128)\n",
      "{'Stefan': 500, 'yt4': 500, 'yt5': 233, 'costis': 500, 'Raluca': 500, 'yt2': 250, 'costi': 500, 'alex': 500, 'yt3': 169, 'test_person_1': 500, 'yt1': 360, 'Mom': 420}\n"
     ]
    }
   ],
   "source": [
    "from processor.reset_bd import store_face_encodings_all, store_face_encodings\n",
    "from processor.get_pictures_webcam import get_pictures\n",
    "from face_recognition.api import get_known_people_from_dataset, get_path_form_name, video_pic_convertor\n",
    "from pkg_resources import resource_filename\n",
    "import os\n",
    "import promptlib\n",
    "from time import sleep\n",
    "\n",
    "method = input('Add person by:\\n (1) Webcam\\n(2) mp4')\n",
    "\n",
    "# TODO : append pictures taken with webcam -------------------------------\n",
    "if method == '1':  # Webcam\n",
    "    name = input('Enter your name: ')\n",
    "    path = os.path.abspath('./dataset')\n",
    "    try:\n",
    "        os.mkdir(path + '/' + name)\n",
    "    except OSError:\n",
    "        print(\"Creation of the directory %s failed\" % name)\n",
    "\n",
    "    else:\n",
    "        print(\"Successfully created the directory %s \" % name)\n",
    "    get_pictures(name)\n",
    "\n",
    "    print('Adding face encodings to DB ...\\n')\n",
    "    store_face_encodings(name)\n",
    "\n",
    "    pass\n",
    "elif method == '2':  # mp4\n",
    "    prompter = promptlib.Files()\n",
    "    abs_path_to_video = prompter.file()\n",
    "    person_name = ''\n",
    "    if abs_path_to_video.endswith('mp4') or abs_path_to_video.endswith('mov'):  # add it to known videos\n",
    "        person_name = str(abs_path_to_video).split('.mp4')[0].split('/')[-1]\n",
    "        if abs_path_to_video.endswith('mov'):\n",
    "            person_name = str(abs_path_to_video).split('.mov')[0].split('/')[-1]\n",
    "        known_people = get_known_people_from_dataset()\n",
    "        if person_name in known_people:\n",
    "            _ = input('This person exists in DB. Do you want to append images to already existing directory?\\n (y/n)')\n",
    "            if _ == 'n':\n",
    "                exit(4)\n",
    "            elif _ == 'y':\n",
    "                dataset_name_location = get_full_path_dir(person_name)\n",
    "                print(dataset_name_location)\n",
    "                video_pic_convertor(abs_path_to_video, dataset_name_location)\n",
    "                store_face_encodings(person_name)\n",
    "            else:\n",
    "                exit(5)\n",
    "        else:\n",
    "            os.mkdir(\"dataset/\" + person_name)\n",
    "            dataset_name_location = get_full_path_dir(person_name)\n",
    "            video_pic_convertor(abs_path_to_video, dataset_name_location)\n",
    "            sleep(1)\n",
    "            store_face_encodings(person_name)\n",
    "            pass\n",
    "else:\n",
    "    print('Invalid command')\n",
    "    pass\n",
    "\n",
    "\n",
    "\n",
    "\n",
    "\n",
    "\n"
   ],
   "metadata": {
    "collapsed": false,
    "pycharm": {
     "name": "#%%\n"
    }
   }
  }
 ],
 "metadata": {
  "kernelspec": {
   "display_name": "Python 3",
   "language": "python",
   "name": "python3"
  },
  "language_info": {
   "codemirror_mode": {
    "name": "ipython",
    "version": 2
   },
   "file_extension": ".py",
   "mimetype": "text/x-python",
   "name": "python",
   "nbconvert_exporter": "python",
   "pygments_lexer": "ipython2",
   "version": "2.7.6"
  }
 },
 "nbformat": 4,
 "nbformat_minor": 0
}