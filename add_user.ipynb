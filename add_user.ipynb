{
 "cells": [
  {
   "cell_type": "markdown",
   "source": [
    "## Add a new person"
   ],
   "metadata": {
    "collapsed": false
   }
  },
  {
   "cell_type": "code",
   "execution_count": 1,
   "outputs": [],
   "source": [
    "def get_full_path_dir(dir):\n",
    "    path = (os.path.expanduser('~/Documents/GitHub/Licenta'))\n",
    "    for dirpath, dirnames, filenames in os.walk(path):\n",
    "        if dir in dirnames:\n",
    "            print(dir)\n",
    "            return os.path.join(dirpath, dir)\n",
    "    return None"
   ],
   "metadata": {
    "collapsed": false,
    "pycharm": {
     "name": "#%%\n"
    }
   }
  },
  {
   "cell_type": "code",
   "execution_count": 2,
   "outputs": [
    {
     "name": "stdout",
     "output_type": "stream",
     "text": [
      "(5250, 128)\n",
      "{'Stefan': 500, 'yt4': 200, 'f': 426, 'costis': 500, 'Raluca': 500, 'yt2': 250, 'costi': 500, 'alex': 500, 'yt3': 169, 'test_person_1': 500, 'yt1': 360, 'Mom': 420, 'raed': 425}\n",
      "Successfully created the directory ioana \n",
      "10\n",
      "20\n",
      "30\n",
      "40\n",
      "50\n",
      "60\n",
      "70\n",
      "80\n",
      "90\n",
      "100\n",
      "110\n",
      "120\n",
      "130\n",
      "140\n",
      "150\n",
      "160\n",
      "170\n",
      "180\n",
      "190\n",
      "200\n",
      "210\n",
      "220\n",
      "230\n",
      "240\n",
      "250\n",
      "260\n",
      "270\n",
      "280\n",
      "290\n",
      "300\n",
      "310\n",
      "320\n",
      "330\n",
      "340\n",
      "350\n",
      "360\n",
      "370\n",
      "380\n",
      "390\n",
      "400\n",
      "410\n",
      "420\n",
      "430\n",
      "440\n",
      "450\n"
     ]
    },
    {
     "ename": "error",
     "evalue": "OpenCV(4.5.1) ../modules/highgui/src/window.cpp:376: error: (-215:Assertion failed) size.width>0 && size.height>0 in function 'imshow'\n",
     "output_type": "error",
     "traceback": [
      "\u001B[0;31m---------------------------------------------------------------------------\u001B[0m",
      "\u001B[0;31merror\u001B[0m                                     Traceback (most recent call last)",
      "\u001B[0;32m<ipython-input-2-e2c9581dca19>\u001B[0m in \u001B[0;36m<module>\u001B[0;34m\u001B[0m\n\u001B[1;32m     20\u001B[0m     \u001B[0;32melse\u001B[0m\u001B[0;34m:\u001B[0m\u001B[0;34m\u001B[0m\u001B[0;34m\u001B[0m\u001B[0m\n\u001B[1;32m     21\u001B[0m         \u001B[0mprint\u001B[0m\u001B[0;34m(\u001B[0m\u001B[0;34m\"Successfully created the directory %s \"\u001B[0m \u001B[0;34m%\u001B[0m \u001B[0mname\u001B[0m\u001B[0;34m)\u001B[0m\u001B[0;34m\u001B[0m\u001B[0;34m\u001B[0m\u001B[0m\n\u001B[0;32m---> 22\u001B[0;31m     \u001B[0mget_pictures\u001B[0m\u001B[0;34m(\u001B[0m\u001B[0mname\u001B[0m\u001B[0;34m)\u001B[0m\u001B[0;34m\u001B[0m\u001B[0;34m\u001B[0m\u001B[0m\n\u001B[0m\u001B[1;32m     23\u001B[0m \u001B[0;34m\u001B[0m\u001B[0m\n\u001B[1;32m     24\u001B[0m     \u001B[0mprint\u001B[0m\u001B[0;34m(\u001B[0m\u001B[0;34m'Adding face encodings to DB ...\\n'\u001B[0m\u001B[0;34m)\u001B[0m\u001B[0;34m\u001B[0m\u001B[0;34m\u001B[0m\u001B[0m\n",
      "\u001B[0;32m~/Documents/GitHub/Licenta/processor/get_pictures_webcam.py\u001B[0m in \u001B[0;36mget_pictures\u001B[0;34m(name)\u001B[0m\n\u001B[1;32m     45\u001B[0m             \u001B[0;31m# show the image\u001B[0m\u001B[0;34m\u001B[0m\u001B[0;34m\u001B[0m\u001B[0;34m\u001B[0m\u001B[0m\n\u001B[1;32m     46\u001B[0m \u001B[0;34m\u001B[0m\u001B[0m\n\u001B[0;32m---> 47\u001B[0;31m             \u001B[0mcv2\u001B[0m\u001B[0;34m.\u001B[0m\u001B[0mimshow\u001B[0m\u001B[0;34m(\u001B[0m\u001B[0mwinname\u001B[0m\u001B[0;34m=\u001B[0m\u001B[0;34m\"Face\"\u001B[0m\u001B[0;34m,\u001B[0m \u001B[0mmat\u001B[0m\u001B[0;34m=\u001B[0m\u001B[0mface_frame\u001B[0m\u001B[0;34m)\u001B[0m\u001B[0;34m\u001B[0m\u001B[0;34m\u001B[0m\u001B[0m\n\u001B[0m\u001B[1;32m     48\u001B[0m             \u001B[0msave_location\u001B[0m \u001B[0;34m=\u001B[0m \u001B[0mresource_filename\u001B[0m\u001B[0;34m(\u001B[0m\u001B[0m__name__\u001B[0m\u001B[0;34m,\u001B[0m \u001B[0;34m\"../dataset/\"\u001B[0m \u001B[0;34m+\u001B[0m \u001B[0mname\u001B[0m\u001B[0;34m)\u001B[0m\u001B[0;34m\u001B[0m\u001B[0;34m\u001B[0m\u001B[0m\n\u001B[1;32m     49\u001B[0m             \u001B[0mp\u001B[0m \u001B[0;34m=\u001B[0m \u001B[0mos\u001B[0m\u001B[0;34m.\u001B[0m\u001B[0mpath\u001B[0m\u001B[0;34m.\u001B[0m\u001B[0msep\u001B[0m\u001B[0;34m.\u001B[0m\u001B[0mjoin\u001B[0m\u001B[0;34m(\u001B[0m\u001B[0;34m[\u001B[0m\u001B[0msave_location\u001B[0m \u001B[0;34m+\u001B[0m \u001B[0;34m'/'\u001B[0m\u001B[0;34m,\u001B[0m \u001B[0;34m\"{}.png\"\u001B[0m\u001B[0;34m.\u001B[0m\u001B[0mformat\u001B[0m\u001B[0;34m(\u001B[0m\u001B[0mstr\u001B[0m\u001B[0;34m(\u001B[0m\u001B[0mtotal\u001B[0m\u001B[0;34m)\u001B[0m\u001B[0;34m.\u001B[0m\u001B[0mzfill\u001B[0m\u001B[0;34m(\u001B[0m\u001B[0;36m3\u001B[0m\u001B[0;34m)\u001B[0m\u001B[0;34m)\u001B[0m\u001B[0;34m]\u001B[0m\u001B[0;34m)\u001B[0m\u001B[0;34m\u001B[0m\u001B[0;34m\u001B[0m\u001B[0m\n",
      "\u001B[0;31merror\u001B[0m: OpenCV(4.5.1) ../modules/highgui/src/window.cpp:376: error: (-215:Assertion failed) size.width>0 && size.height>0 in function 'imshow'\n"
     ]
    }
   ],
   "source": [
    "from processor.reset_bd import store_face_encodings_all, store_face_encodings\n",
    "from processor.get_pictures_webcam import get_pictures\n",
    "from face_recognition.api import get_known_people_from_dataset, get_path_form_name, video_pic_convertor\n",
    "from pkg_resources import resource_filename\n",
    "import os\n",
    "import promptlib\n",
    "from time import sleep\n",
    "\n",
    "method = input('Add person by:\\n(1) Webcam\\n(2) mp4')\n",
    "\n",
    "# TODO : append pictures taken with webcam -------------------------------\n",
    "if method == '1':  # Webcam\n",
    "    name = input('Enter your name: ')\n",
    "    path = os.path.abspath('./dataset')\n",
    "    try:\n",
    "        os.mkdir(path + '/' + name)\n",
    "    except OSError:\n",
    "        print(\"Creation of the directory %s failed\" % name)\n",
    "\n",
    "    else:\n",
    "        print(\"Successfully created the directory %s \" % name)\n",
    "    get_pictures(name)\n",
    "\n",
    "    print('Adding face encodings to DB ...\\n')\n",
    "    store_face_encodings(name)\n",
    "\n",
    "    pass\n",
    "elif method == '2':  # mp4\n",
    "    prompter = promptlib.Files()\n",
    "    abs_path_to_video = prompter.file()\n",
    "    person_name = ''\n",
    "    if abs_path_to_video.endswith('mp4') or abs_path_to_video.endswith('mov'):  # add it to known videos\n",
    "        person_name = str(abs_path_to_video).split('.mp4')[0].split('/')[-1]\n",
    "        if abs_path_to_video.endswith('mov'):\n",
    "            person_name = str(abs_path_to_video).split('.mov')[0].split('/')[-1]\n",
    "        known_people = get_known_people_from_dataset()\n",
    "        if person_name in known_people:\n",
    "            _ = input('This person exists in DB. Do you want to append images to already existing directory?\\n (y/n)')\n",
    "            if _ == 'n':\n",
    "                exit(4)\n",
    "            elif _ == 'y':\n",
    "                dataset_name_location = get_full_path_dir(person_name)\n",
    "                print(dataset_name_location)\n",
    "                video_pic_convertor(abs_path_to_video, dataset_name_location)\n",
    "                store_face_encodings(person_name)\n",
    "            else:\n",
    "                exit(5)\n",
    "        else:\n",
    "            os.mkdir(\"dataset/\" + person_name)\n",
    "            dataset_name_location = get_full_path_dir(person_name)\n",
    "            video_pic_convertor(abs_path_to_video, dataset_name_location)\n",
    "            sleep(1)\n",
    "            store_face_encodings(person_name)\n",
    "            pass\n",
    "else:\n",
    "    print('Invalid command')\n",
    "    pass\n",
    "\n",
    "\n",
    "\n",
    "\n",
    "\n",
    "\n"
   ],
   "metadata": {
    "collapsed": false,
    "pycharm": {
     "name": "#%%\n"
    }
   }
  }
 ],
 "metadata": {
  "kernelspec": {
   "display_name": "Python 3",
   "language": "python",
   "name": "python3"
  },
  "language_info": {
   "codemirror_mode": {
    "name": "ipython",
    "version": 2
   },
   "file_extension": ".py",
   "mimetype": "text/x-python",
   "name": "python",
   "nbconvert_exporter": "python",
   "pygments_lexer": "ipython2",
   "version": "2.7.6"
  }
 },
 "nbformat": 4,
 "nbformat_minor": 0
}