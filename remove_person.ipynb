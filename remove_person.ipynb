{
 "cells": [
  {
   "cell_type": "code",
   "execution_count": 1,
   "metadata": {
    "collapsed": true
   },
   "outputs": [],
   "source": [
    "# TODO: remove directory in dataset, remove encodings from facerec, update encodings counter\n",
    "import os, shutil\n",
    "import pickle\n",
    "from pkg_resources import resource_filename\n",
    "\n",
    "import numpy as np\n",
    "\n",
    "\n",
    "def get_full_path_dir(dir):\n",
    "    path = (os.path.expanduser('~/Documents/GitHub/Licenta'))\n",
    "    for dirpath, dirnames, filenames in os.walk(path):\n",
    "        if dir in dirnames:\n",
    "            return os.path.join(dirpath, dir)\n",
    "    return None\n",
    "\n",
    "\n",
    "def get_full_path(filename):\n",
    "    path = (os.path.expanduser('~/Documents/GitHub/Licenta'))\n",
    "    for dirpath, dirnames, filenames in os.walk(path):\n",
    "        for filename in [f for f in filenames if f.endswith(filename)]:\n",
    "            return os.path.join(dirpath, filename)\n",
    "    return None\n",
    "\n",
    "\n",
    "def update_encodings():\n",
    "    total = {}\n",
    "    path = get_full_path_dir('face_encodings')\n",
    "    for dirpath, dirnames, filenames in os.walk(path):\n",
    "        for filename in filenames:\n",
    "            if filename.endswith('.data'):\n",
    "                path = get_full_path(filename)\n",
    "                with open(path, 'rb') as filehandle:\n",
    "                    total[filename.split('.data')[0]] = np.array((pickle.load(filehandle))).shape[0]\n",
    "    face_enc_counter = resource_filename(__name__, 'face_recognition/encodings_counter.data')\n",
    "\n",
    "    with open(face_enc_counter, 'wb') as filehandle:\n",
    "        # store the data as binary data stream\n",
    "        pickle.dump(total, filehandle)\n",
    "\n",
    "    print(total)\n",
    "\n",
    "\n",
    "def remove(path):\n",
    "    \"\"\" param <path> could either be relative or absolute. \"\"\"\n",
    "    if os.path.isfile(path) or os.path.islink(path):\n",
    "        os.remove(path)  # remove the file\n",
    "    elif os.path.isdir(path):\n",
    "        shutil.rmtree(path)  # remove dir and all contains\n",
    "    else:\n",
    "        raise ValueError(\"file {} is not a file or dir.\".format(path))"
   ]
  },
  {
   "cell_type": "code",
   "execution_count": 2,
   "outputs": [
    {
     "name": "stdout",
     "output_type": "stream",
     "text": [
      "{'stefan': 10, 'costis': 10, 'raluca': 10, 'costi': 10, 'alex': 10, 'test_person_1': 10, 'mom': 10}\n"
     ]
    }
   ],
   "source": [
    "name_to_delete = input(\"Enter name to delete:\")\n",
    "\n",
    "full_dir_path = get_full_path_dir(name_to_delete)\n",
    "full_name_encodings_path = get_full_path(name_to_delete + '.data')\n",
    "\n",
    "if full_dir_path is not None and full_name_encodings_path is not None:\n",
    "    remove(full_dir_path)\n",
    "    remove(full_name_encodings_path)\n",
    "    update_encodings()\n",
    "    print(f'Removed {name_to_delete}')\n",
    "else:\n",
    "    print(\"Wrong name. Check case-sensitive\")\n",
    "    pass"
   ],
   "metadata": {
    "collapsed": false,
    "pycharm": {
     "name": "#%%\n"
    }
   }
  }
 ],
 "metadata": {
  "kernelspec": {
   "display_name": "Python 3",
   "language": "python",
   "name": "python3"
  },
  "language_info": {
   "codemirror_mode": {
    "name": "ipython",
    "version": 2
   },
   "file_extension": ".py",
   "mimetype": "text/x-python",
   "name": "python",
   "nbconvert_exporter": "python",
   "pygments_lexer": "ipython2",
   "version": "2.7.6"
  }
 },
 "nbformat": 4,
 "nbformat_minor": 0
}