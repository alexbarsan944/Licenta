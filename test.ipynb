{
 "cells": [
  {
   "cell_type": "markdown",
   "source": [
    "## Add a new test"
   ],
   "metadata": {
    "collapsed": false
   }
  },
  {
   "cell_type": "code",
   "execution_count": 1,
   "outputs": [
    {
     "ename": "TypeError",
     "evalue": "produce_video() missing 1 required positional argument: 'should_be'",
     "output_type": "error",
     "traceback": [
      "\u001B[0;31m---------------------------------------------------------------------------\u001B[0m",
      "\u001B[0;31mTypeError\u001B[0m                                 Traceback (most recent call last)",
      "\u001B[0;32m<ipython-input-1-a13934f345e0>\u001B[0m in \u001B[0;36m<module>\u001B[0;34m\u001B[0m\n\u001B[1;32m     38\u001B[0m     \u001B[0mabs_path_to_video\u001B[0m \u001B[0;34m=\u001B[0m \u001B[0mprompter\u001B[0m\u001B[0;34m.\u001B[0m\u001B[0mfile\u001B[0m\u001B[0;34m(\u001B[0m\u001B[0;34m)\u001B[0m\u001B[0;34m\u001B[0m\u001B[0;34m\u001B[0m\u001B[0m\n\u001B[1;32m     39\u001B[0m     \u001B[0mperson_name\u001B[0m \u001B[0;34m=\u001B[0m \u001B[0mabs_path_to_video\u001B[0m\u001B[0;34m.\u001B[0m\u001B[0msplit\u001B[0m\u001B[0;34m(\u001B[0m\u001B[0;34m'.'\u001B[0m\u001B[0;34m)\u001B[0m\u001B[0;34m[\u001B[0m\u001B[0;36m0\u001B[0m\u001B[0;34m]\u001B[0m\u001B[0;34m.\u001B[0m\u001B[0msplit\u001B[0m\u001B[0;34m(\u001B[0m\u001B[0;34m'/'\u001B[0m\u001B[0;34m)\u001B[0m\u001B[0;34m[\u001B[0m\u001B[0;34m-\u001B[0m\u001B[0;36m1\u001B[0m\u001B[0;34m]\u001B[0m\u001B[0;34m\u001B[0m\u001B[0;34m\u001B[0m\u001B[0m\n\u001B[0;32m---> 40\u001B[0;31m     \u001B[0moutput_faces\u001B[0m \u001B[0;34m=\u001B[0m \u001B[0mproduce_video\u001B[0m\u001B[0;34m(\u001B[0m\u001B[0mabs_path_to_video\u001B[0m\u001B[0;34m)\u001B[0m\u001B[0;34m\u001B[0m\u001B[0;34m\u001B[0m\u001B[0m\n\u001B[0m\u001B[1;32m     41\u001B[0m     \u001B[0mprompter\u001B[0m\u001B[0;34m.\u001B[0m\u001B[0mdst\u001B[0m\u001B[0;34m(\u001B[0m\u001B[0;34m)\u001B[0m\u001B[0;34m\u001B[0m\u001B[0;34m\u001B[0m\u001B[0m\n\u001B[1;32m     42\u001B[0m \u001B[0;34m\u001B[0m\u001B[0m\n",
      "\u001B[0;31mTypeError\u001B[0m: produce_video() missing 1 required positional argument: 'should_be'"
     ]
    }
   ],
   "source": [
    "import pickle\n",
    "\n",
    "import matplotlib.pyplot as plt\n",
    "import promptlib\n",
    "import seaborn as sns\n",
    "\n",
    "from face_recognition.api import get_known_people_from_encodings, get_known_people_from_dataset\n",
    "from face_recognition.web_prediction import predict\n",
    "from test.video_prediction import produce_video\n",
    "\n",
    "method = input('Test by:\\n (1) Webcam\\n(2) video')\n",
    "output_faces = []\n",
    "person_name = ''\n",
    "\n",
    "if method != '1' and method != '2':\n",
    "    exit(1)\n",
    "elif method == '1':\n",
    "    name = input(\"Enter your name: \")\n",
    "    faces = predict()\n",
    "    names_in_db = get_known_people_from_dataset()\n",
    "    x = {}\n",
    "    for nume in names_in_db:\n",
    "        x[nume] = (faces.count(nume))\n",
    "    x['unknown'] = faces.count('unknown')\n",
    "    print(x)\n",
    "    keys = [j for j in x.keys()]\n",
    "    values = [j for j in x.values()]\n",
    "\n",
    "    sns.set_style('dark')\n",
    "    acc = x[name] * 100 / sum(values)\n",
    "\n",
    "    sns.barplot(x=values, y=keys).set_title(f'{name.capitalize()} - acc: {acc}%')\n",
    "    plt.show()\n",
    "\n",
    "    print(x)\n",
    "elif method == '2':\n",
    "    prompter = promptlib.Files()\n",
    "    abs_path_to_video = prompter.file()\n",
    "    person_name = abs_path_to_video.split('.')[0].split('/')[-1]\n",
    "    output_faces = produce_video(abs_path_to_video, should_be)\n",
    "    prompter.dst()\n",
    "\n",
    "    print('Done.')\n"
   ],
   "metadata": {
    "collapsed": false,
    "pycharm": {
     "name": "#%%\n"
    }
   }
  },
  {
   "cell_type": "code",
   "execution_count": null,
   "outputs": [],
   "source": [
    "\n",
    "\n",
    "def return_results(output_faces, person_name):\n",
    "    for i in range(len(output_faces)):\n",
    "        output_faces[i] = output_faces[i].lower()\n",
    "    output_name = person_name\n",
    "\n",
    "    if person_name.startswith('stock'):\n",
    "        person_name = 'unknown'\n",
    "\n",
    "    output_name = output_name.split('(')[0]\n",
    "\n",
    "    person_name = person_name.lower()\n",
    "    if person_name.endswith(')'):\n",
    "        person_name = person_name.split('(')[0]\n",
    "\n",
    "    if len(output_faces) == 0:\n",
    "        print('No faces found')\n",
    "        output_faces = '1'\n",
    "\n",
    "    acc = output_faces.count(person_name) * 100 / len(output_faces)\n",
    "    print(acc)\n",
    "    known_encodings = get_known_people_from_encodings()\n",
    "    for i in range(len(known_encodings)):\n",
    "        known_encodings[i] = known_encodings[i].lower()\n",
    "\n",
    "    names = {'unknown': output_faces.count('unknown')}\n",
    "    for name in known_encodings:\n",
    "        names[name] = output_faces.count(name.lower())\n",
    "    return [output_name.lower(), names, acc]\n",
    "\n",
    "\n",
    "list = return_results(output_faces, person_name)\n",
    "print(list)\n",
    "\n",
    "if len(output_faces) == 0:\n",
    "    list[1] = 'noface'\n",
    "with open(f'results/{list[0]}.data', 'wb') as filehandle:\n",
    "    # store the data as binary data stream\n",
    "    pickle.dump(list, filehandle)"
   ],
   "metadata": {
    "collapsed": false,
    "pycharm": {
     "name": "#%%\n"
    }
   }
  },
  {
   "cell_type": "code",
   "execution_count": null,
   "outputs": [],
   "source": [
    "import pickle\n",
    "import matplotlib.pyplot as plt\n",
    "import os\n",
    "import seaborn as sns\n",
    "\n",
    "\n",
    "def plot_all_data():\n",
    "    directory = 'results'\n",
    "    objs = []\n",
    "    for filename in os.listdir(directory):\n",
    "        f = os.path.join(directory, filename)\n",
    "        if os.path.isfile(f) and filename.endswith('data'):\n",
    "            with open(f, 'rb') as filehandle:\n",
    "                # read the data as binary data stream\n",
    "                while 1:\n",
    "                    try:\n",
    "                        objs.append(pickle.load(filehandle))\n",
    "                    except EOFError:\n",
    "                        break\n",
    "    sns.set_style('darkgrid')\n",
    "    for results in objs:\n",
    "        actual_name = results[0]\n",
    "        output_faces = results[1]\n",
    "        if output_faces == 'noface':\n",
    "            sns.barplot(x=values, y=keys).set_title(actual_name + '- no face found')\n",
    "            plt.show()\n",
    "        else:\n",
    "            acc = results[2]\n",
    "            print('Accuracy= ', acc, '%')\n",
    "\n",
    "            keys = [j for j in output_faces.keys()]\n",
    "            values = [j for j in output_faces.values()]\n",
    "            if actual_name == 'yt3(2)':\n",
    "                sns.barplot(x=values, y=keys).set_title(actual_name + 'interchanged train with test')\n",
    "            else:\n",
    "                sns.barplot(x=values, y=keys).set_title(actual_name)\n",
    "\n",
    "            plt.show()\n",
    "\n",
    "\n",
    "plot_all_data()"
   ],
   "metadata": {
    "collapsed": false,
    "pycharm": {
     "name": "#%%\n"
    }
   }
  },
  {
   "cell_type": "code",
   "execution_count": null,
   "outputs": [],
   "source": [],
   "metadata": {
    "collapsed": false,
    "pycharm": {
     "name": "#%%\n"
    }
   }
  }
 ],
 "metadata": {
  "kernelspec": {
   "display_name": "Python 3",
   "language": "python",
   "name": "python3"
  },
  "language_info": {
   "codemirror_mode": {
    "name": "ipython",
    "version": 2
   },
   "file_extension": ".py",
   "mimetype": "text/x-python",
   "name": "python",
   "nbconvert_exporter": "python",
   "pygments_lexer": "ipython2",
   "version": "2.7.6"
  }
 },
 "nbformat": 4,
 "nbformat_minor": 0
}