{
 "cells": [
  {
   "cell_type": "markdown",
   "source": [
    "## Add a new test"
   ],
   "metadata": {
    "collapsed": false
   }
  },
  {
   "cell_type": "code",
   "execution_count": 9,
   "outputs": [
    {
     "name": "stdout",
     "output_type": "stream",
     "text": [
      "['costi', 'costi', 'costi', 'costi', 'costi', 'costi', 'costi', 'costi', 'costi', 'costi', 'costi', 'costi', 'costi', 'costi', 'costi', 'costi', 'costi', 'costi', 'costi', 'costi', 'costi', 'costi', 'costi', 'costi', 'costi', 'costi', 'costi', 'costi', 'costi', 'costi', 'costi', 'costi', 'costi', 'costi', 'costi', 'costi', 'costi', 'costi', 'costi', 'costi', 'costi', 'costi', 'costi', 'costi', 'costi', 'costi', 'costi', 'costi', 'costi', 'costi', 'costi', 'costi', 'costi', 'costi', 'costi', 'costi', 'costi', 'costi', 'costi', 'costi', 'costi', 'costi', 'costi', 'costi', 'costi', 'costi', 'costi', 'costi', 'costi', 'costi', 'costi', 'costi', 'costi', 'costi', 'costi', 'costi', 'costi', 'costi', 'costi', 'costi', 'costi', 'costi', 'costi', 'costi', 'costi', 'costi', 'costi', 'costi', 'costi', 'costi', 'costi', 'costi', 'costi', 'costi', 'costi', 'costi', 'costi', 'costi', 'costi', 'costi', 'costi', 'costi', 'costi', 'costi', 'costi', 'costi', 'costi', 'costi', 'costi', 'costi', 'costi', 'costi', 'costi', 'costi', 'costi', 'costi', 'costi', 'costi', 'costi', 'costi', 'costi', 'costi', 'costi', 'costi', 'costi', 'costi', 'costi', 'costi', 'costi', 'costi', 'costi', 'costi', 'costi', 'costi', 'costi', 'costi', 'costi', 'costi', 'costi', 'costi', 'costi', 'costi', 'costi', 'costi', 'costi', 'costi', 'costi', 'costi', 'costi', 'costi', 'costi', 'costi', 'costi', 'costi', 'costi', 'costi', 'costi', 'costi', 'costi', 'costi', 'costi', 'costi', 'costi', 'costi', 'costi', 'costi', 'costi', 'costi', 'costi', 'costi', 'costi', 'costi', 'costi', 'costi', 'costi', 'costi', 'costi', 'costi', 'costi', 'costi', 'costi', 'costi', 'costi', 'costi', 'costi', 'costi', 'costi', 'costi', 'costi', 'costi', 'costi', 'costi', 'costi', 'costi', 'costi', 'costi', 'costi', 'costi', 'costi', 'costi', 'costi', 'costi', 'costi', 'costi', 'costi', 'costi', 'costi', 'costi', 'costi', 'costi', 'costi', 'costi', 'costi', 'costi', 'costi', 'costi', 'costi', 'costi', 'costi', 'costi', 'costi', 'costi', 'costi', 'costi', 'costi', 'costi', 'costi', 'costi', 'costi', 'costi', 'costi', 'costi', 'costi', 'costi', 'costi', 'costi', 'costi', 'costi', 'costi', 'costi', 'costi', 'costi', 'costi', 'costi', 'costi', 'costi', 'costi', 'costi', 'costi', 'costi', 'costi', 'costi', 'costi', 'costi', 'costi', 'costi', 'costi', 'costi', 'costi', 'costi', 'costi', 'costi', 'costi', 'costi', 'costi', 'costi', 'costi', 'costi', 'costi', 'costi', 'costi', 'costi', 'costi', 'costi', 'costi', 'costi', 'costi', 'costi', 'costi', 'costi', 'costi', 'costi', 'costi', 'costi', 'costi', 'costi', 'costi', 'costi', 'costi', 'costi', 'costi', 'costi', 'costi', 'costi', 'costi', 'costi', 'costi', 'costi', 'costi', 'costi', 'alex', 'alex', 'alex', 'alex', 'alex', 'alex', 'alex', 'alex', 'alex', 'alex', 'alex', 'alex', 'alex', 'alex', 'alex', 'alex', 'alex', 'alex', 'alex', 'alex', 'alex', 'alex', 'alex', 'alex', 'alex', 'alex', 'alex', 'alex', 'alex', 'alex', 'alex', 'alex', 'alex', 'alex', 'alex', 'alex', 'alex', 'alex', 'alex', 'alex', 'alex', 'alex', 'alex', 'alex', 'alex', 'alex', 'alex', 'alex', 'alex', 'alex', 'alex', 'alex', 'alex', 'alex', 'alex', 'alex', 'alex', 'alex', 'alex', 'alex', 'alex', 'alex', 'alex', 'alex', 'alex', 'alex', 'alex', 'alex', 'alex', 'alex', 'alex', 'alex', 'alex', 'alex', 'alex', 'alex', 'alex', 'alex', 'alex', 'alex', 'alex', 'alex', 'alex', 'alex', 'alex', 'alex', 'alex', 'alex', 'alex', 'alex', 'alex', 'alex', 'alex', 'alex', 'alex', 'alex', 'alex', 'alex', 'alex', 'alex', 'alex', 'alex', 'alex', 'alex', 'alex', 'alex', 'alex', 'alex', 'alex', 'alex', 'alex', 'alex', 'alex', 'alex', 'alex', 'alex', 'alex', 'alex', 'alex', 'alex', 'alex', 'alex', 'alex', 'alex', 'alex', 'alex', 'alex', 'alex', 'alex', 'alex', 'alex', 'alex', 'alex', 'alex', 'alex', 'alex', 'alex', 'alex', 'alex', 'alex', 'alex', 'alex', 'alex', 'alex', 'alex', 'alex', 'alex', 'alex', 'alex', 'alex', 'alex', 'alex', 'alex', 'alex', 'alex', 'alex', 'alex', 'alex', 'alex', 'alex', 'alex', 'alex', 'alex', 'alex', 'alex', 'alex', 'alex', 'alex', 'alex', 'alex', 'alex', 'alex', 'alex', 'alex', 'alex', 'alex', 'alex', 'alex', 'alex', 'alex', 'alex', 'alex', 'alex', 'alex', 'alex', 'alex', 'alex', 'alex', 'alex', 'alex', 'alex', 'alex', 'alex', 'alex', 'alex', 'alex', 'alex', 'alex', 'alex', 'alex', 'alex', 'alex', 'alex', 'alex', 'alex', 'alex', 'alex', 'alex', 'alex', 'alex', 'alex', 'alex', 'alex', 'alex', 'alex', 'alex', 'alex', 'alex', 'alex', 'alex', 'alex', 'alex', 'alex', 'alex', 'alex', 'alex', 'alex', 'alex', 'alex', 'alex', 'alex', 'alex', 'alex', 'alex', 'alex', 'alex', 'alex', 'alex', 'alex', 'alex', 'alex', 'alex', 'alex', 'alex', 'alex', 'alex', 'alex', 'alex', 'alex', 'alex', 'alex', 'alex', 'alex', 'alex', 'alex', 'alex', 'alex', 'alex', 'alex', 'alex', 'alex', 'alex', 'alex', 'alex', 'alex', 'alex', 'alex', 'alex', 'alex', 'alex', 'alex', 'alex', 'alex', 'alex', 'alex', 'alex', 'alex', 'alex', 'alex', 'alex', 'alex', 'alex', 'alex', 'alex', 'alex', 'alex', 'alex', 'alex', 'alex', 'alex', 'alex', 'alex', 'alex', 'alex', 'alex', 'alex', 'alex', 'alex', 'alex', 'alex', 'costis', 'costis', 'costis', 'costis', 'costis', 'costis', 'costis', 'costis', 'costis', 'costis', 'costis', 'costis', 'costis', 'costis', 'costis', 'costis', 'costis', 'costis', 'costis', 'costis', 'costis', 'costis', 'costis', 'costis', 'costis', 'costis', 'costis', 'costis', 'costis', 'costis', 'costis', 'costis', 'costis', 'costis', 'costis', 'costis', 'costis', 'costis', 'costis', 'costis', 'costis', 'costis', 'costis', 'costis', 'costis', 'costis', 'costis', 'costis', 'costis', 'costis', 'costis', 'costis', 'costis', 'costis', 'costis', 'costis', 'costis', 'costis', 'costis', 'costis', 'costis', 'costis', 'costis', 'costis', 'costis', 'costis', 'costis', 'costis', 'costis', 'costis', 'costis', 'costis', 'costis', 'costis', 'costis', 'costis', 'costis', 'costis', 'costis', 'costis', 'costis', 'costis', 'costis', 'costis', 'costis', 'costis', 'costis', 'costis', 'costis', 'costis', 'costis', 'costis', 'costis', 'costis', 'costis', 'costis', 'costis', 'costis', 'costis', 'costis', 'costis', 'costis', 'costis', 'costis', 'costis', 'costis', 'costis', 'costis', 'costis', 'costis', 'costis', 'costis', 'costis', 'costis', 'costis', 'costis', 'costis', 'costis', 'costis', 'costis', 'costis', 'costis', 'costis', 'costis', 'costis', 'costis', 'costis', 'costis', 'costis', 'costis', 'costis', 'costis', 'costis', 'costis', 'costis', 'costis', 'costis', 'costis', 'costis', 'costis', 'costis', 'costis', 'costis', 'costis', 'costis', 'costis', 'costis', 'costis', 'costis', 'costis', 'costis', 'costis', 'costis', 'costis', 'costis', 'costis', 'costis', 'costis', 'costis', 'costis', 'costis', 'costis', 'costis', 'costis', 'costis', 'costis', 'costis', 'costis', 'costis', 'costis', 'costis', 'costis', 'costis', 'costis', 'costis', 'costis', 'costis', 'costis', 'costis', 'costis', 'costis', 'costis', 'costis', 'costis', 'costis', 'costis', 'costis', 'costis', 'costis', 'costis', 'costis', 'costis', 'costis', 'costis', 'costis', 'costis', 'costis', 'costis', 'costis', 'costis', 'costis', 'costis', 'costis', 'costis', 'costis', 'costis', 'costis', 'costis', 'costis', 'costis', 'costis', 'costis', 'costis', 'costis', 'costis', 'costis', 'costis', 'costis', 'costis', 'costis', 'costis', 'costis', 'costis', 'costis', 'costis', 'costis', 'costis', 'costis', 'costis', 'costis', 'costis', 'costis', 'costis', 'costis', 'costis', 'costis', 'costis', 'costis', 'costis', 'costis', 'costis', 'costis', 'costis', 'costis', 'costis', 'costis', 'costis', 'costis', 'costis', 'costis', 'costis', 'costis', 'costis', 'costis', 'costis', 'costis', 'costis', 'costis', 'costis', 'costis', 'costis', 'costis', 'costis', 'costis', 'costis', 'costis', 'costis', 'costis', 'costis', 'costis', 'costis', 'costis', 'costis', 'costis', 'costis', 'costis', 'costis', 'costis', 'costis', 'costis', 'costis', 'costis', 'costis', 'costis', 'costis', 'costis', 'costis', 'costis', 'costis', 'costis', 'costis', 'costis', 'costis', 'costis', 'costis', 'costis', 'costis', 'costis', 'costis', 'costis', 'raluca', 'raluca', 'raluca', 'raluca', 'raluca', 'raluca', 'raluca', 'raluca', 'raluca', 'raluca', 'raluca', 'raluca', 'raluca', 'raluca', 'raluca', 'raluca', 'raluca', 'raluca', 'raluca', 'raluca', 'raluca', 'raluca', 'raluca', 'raluca', 'raluca', 'raluca', 'raluca', 'raluca', 'raluca', 'raluca', 'raluca', 'raluca', 'raluca', 'raluca', 'raluca', 'raluca', 'raluca', 'raluca', 'raluca', 'raluca', 'raluca', 'raluca', 'raluca', 'raluca', 'raluca', 'raluca', 'raluca', 'raluca', 'raluca', 'raluca', 'raluca', 'raluca', 'raluca', 'raluca', 'raluca', 'raluca', 'raluca', 'raluca', 'raluca', 'raluca', 'raluca', 'raluca', 'raluca', 'raluca', 'raluca', 'raluca', 'raluca', 'raluca', 'raluca', 'raluca', 'raluca', 'raluca', 'raluca', 'raluca', 'raluca', 'raluca', 'raluca', 'raluca', 'raluca', 'raluca', 'raluca', 'raluca', 'raluca', 'raluca', 'raluca', 'raluca', 'raluca', 'raluca', 'raluca', 'raluca', 'raluca', 'raluca', 'raluca', 'raluca', 'raluca', 'raluca', 'raluca', 'raluca', 'raluca', 'raluca', 'raluca', 'raluca', 'raluca', 'raluca', 'raluca', 'raluca', 'raluca', 'raluca', 'raluca', 'raluca', 'raluca', 'raluca', 'raluca', 'raluca', 'raluca', 'raluca', 'raluca', 'raluca', 'raluca', 'raluca', 'raluca', 'raluca', 'raluca', 'raluca', 'raluca', 'raluca', 'raluca', 'raluca', 'raluca', 'raluca', 'raluca', 'raluca', 'raluca', 'raluca', 'raluca', 'raluca', 'raluca', 'raluca', 'raluca', 'raluca', 'raluca', 'raluca', 'raluca', 'raluca', 'raluca', 'raluca', 'raluca', 'raluca', 'raluca', 'raluca', 'raluca', 'raluca', 'raluca', 'raluca', 'raluca', 'raluca', 'raluca', 'raluca', 'raluca', 'raluca', 'raluca', 'raluca', 'raluca', 'raluca', 'raluca', 'raluca', 'raluca', 'raluca', 'raluca', 'raluca', 'raluca', 'raluca', 'raluca', 'raluca', 'raluca', 'raluca', 'raluca', 'raluca', 'raluca', 'raluca', 'raluca', 'raluca', 'raluca', 'raluca', 'raluca', 'raluca', 'raluca', 'raluca', 'raluca', 'raluca', 'raluca', 'raluca', 'raluca', 'raluca', 'raluca', 'raluca', 'raluca', 'raluca', 'raluca', 'raluca', 'raluca', 'raluca', 'raluca', 'raluca', 'raluca', 'raluca', 'raluca', 'raluca', 'raluca', 'raluca', 'raluca', 'raluca', 'raluca', 'raluca', 'raluca', 'raluca', 'raluca', 'raluca', 'raluca', 'raluca', 'raluca', 'raluca', 'raluca', 'raluca', 'raluca', 'raluca', 'raluca', 'raluca', 'raluca', 'raluca', 'raluca', 'raluca', 'raluca', 'raluca', 'raluca', 'raluca', 'raluca', 'raluca', 'raluca', 'raluca', 'raluca', 'raluca', 'raluca', 'raluca', 'raluca', 'raluca', 'raluca', 'raluca', 'raluca', 'raluca', 'raluca', 'raluca', 'raluca', 'raluca', 'raluca', 'raluca', 'raluca', 'raluca', 'raluca', 'raluca', 'raluca', 'raluca', 'raluca', 'raluca', 'raluca', 'raluca', 'raluca', 'raluca', 'raluca', 'raluca', 'raluca', 'raluca', 'raluca', 'raluca', 'raluca', 'raluca', 'raluca', 'raluca', 'raluca', 'raluca', 'raluca', 'raluca', 'raluca', 'raluca', 'raluca', 'raluca', 'raluca', 'raluca', 'raluca', 'raluca', 'raluca', 'raluca', 'raluca', 'raluca', 'raluca', 'raluca', 'raluca', 'raluca', 'raluca', 'raluca', 'test_person_1', 'test_person_1', 'test_person_1', 'test_person_1', 'test_person_1', 'test_person_1', 'test_person_1', 'test_person_1', 'test_person_1', 'test_person_1', 'test_person_1', 'test_person_1', 'test_person_1', 'test_person_1', 'test_person_1', 'test_person_1', 'test_person_1', 'test_person_1', 'test_person_1', 'test_person_1', 'test_person_1', 'test_person_1', 'test_person_1', 'test_person_1', 'test_person_1', 'test_person_1', 'test_person_1', 'test_person_1', 'test_person_1', 'test_person_1', 'test_person_1', 'test_person_1', 'test_person_1', 'test_person_1', 'test_person_1', 'test_person_1', 'test_person_1', 'test_person_1', 'test_person_1', 'test_person_1', 'test_person_1', 'test_person_1', 'test_person_1', 'test_person_1', 'test_person_1', 'test_person_1', 'test_person_1', 'test_person_1', 'test_person_1', 'test_person_1', 'test_person_1', 'test_person_1', 'test_person_1', 'test_person_1', 'test_person_1', 'test_person_1', 'test_person_1', 'test_person_1', 'test_person_1', 'test_person_1', 'test_person_1', 'test_person_1', 'test_person_1', 'test_person_1', 'test_person_1', 'test_person_1', 'test_person_1', 'test_person_1', 'test_person_1', 'test_person_1', 'test_person_1', 'test_person_1', 'test_person_1', 'test_person_1', 'test_person_1', 'test_person_1', 'test_person_1', 'test_person_1', 'test_person_1', 'test_person_1', 'test_person_1', 'test_person_1', 'test_person_1', 'test_person_1', 'test_person_1', 'test_person_1', 'test_person_1', 'test_person_1', 'test_person_1', 'test_person_1', 'test_person_1', 'test_person_1', 'test_person_1', 'test_person_1', 'test_person_1', 'test_person_1', 'test_person_1', 'test_person_1', 'test_person_1', 'test_person_1', 'test_person_1', 'test_person_1', 'test_person_1', 'test_person_1', 'test_person_1', 'test_person_1', 'test_person_1', 'test_person_1', 'test_person_1', 'test_person_1', 'test_person_1', 'test_person_1', 'test_person_1', 'test_person_1', 'test_person_1', 'test_person_1', 'test_person_1', 'test_person_1', 'test_person_1', 'test_person_1', 'test_person_1', 'test_person_1', 'test_person_1', 'test_person_1', 'test_person_1', 'test_person_1', 'test_person_1', 'test_person_1', 'test_person_1', 'test_person_1', 'test_person_1', 'test_person_1', 'test_person_1', 'test_person_1', 'test_person_1', 'test_person_1', 'test_person_1', 'test_person_1', 'test_person_1', 'test_person_1', 'test_person_1', 'test_person_1', 'test_person_1', 'test_person_1', 'test_person_1', 'test_person_1', 'test_person_1', 'test_person_1', 'test_person_1', 'test_person_1', 'test_person_1', 'test_person_1', 'test_person_1', 'test_person_1', 'test_person_1', 'test_person_1', 'test_person_1', 'test_person_1', 'test_person_1', 'test_person_1', 'test_person_1', 'test_person_1', 'test_person_1', 'test_person_1', 'test_person_1', 'test_person_1', 'test_person_1', 'test_person_1', 'test_person_1', 'test_person_1', 'test_person_1', 'test_person_1', 'test_person_1', 'test_person_1', 'test_person_1', 'test_person_1', 'test_person_1', 'test_person_1', 'test_person_1', 'test_person_1', 'test_person_1', 'test_person_1', 'test_person_1', 'test_person_1', 'test_person_1', 'test_person_1', 'test_person_1', 'test_person_1', 'test_person_1', 'test_person_1', 'test_person_1', 'test_person_1', 'test_person_1', 'test_person_1', 'test_person_1', 'test_person_1', 'test_person_1', 'test_person_1', 'test_person_1', 'test_person_1', 'test_person_1', 'test_person_1', 'test_person_1', 'test_person_1', 'test_person_1', 'test_person_1', 'test_person_1', 'test_person_1', 'test_person_1', 'test_person_1', 'test_person_1', 'test_person_1', 'test_person_1', 'test_person_1', 'test_person_1', 'test_person_1', 'test_person_1', 'test_person_1', 'test_person_1', 'test_person_1', 'test_person_1', 'test_person_1', 'test_person_1', 'test_person_1', 'test_person_1', 'test_person_1', 'test_person_1', 'test_person_1', 'test_person_1', 'test_person_1', 'test_person_1', 'test_person_1', 'test_person_1', 'test_person_1', 'test_person_1', 'test_person_1', 'test_person_1', 'test_person_1', 'test_person_1', 'test_person_1', 'test_person_1', 'test_person_1', 'test_person_1', 'test_person_1', 'test_person_1', 'test_person_1', 'test_person_1', 'test_person_1', 'test_person_1', 'test_person_1', 'test_person_1', 'test_person_1', 'test_person_1', 'test_person_1', 'test_person_1', 'test_person_1', 'test_person_1', 'test_person_1', 'test_person_1', 'test_person_1', 'test_person_1', 'test_person_1', 'test_person_1', 'test_person_1', 'test_person_1', 'test_person_1', 'test_person_1', 'test_person_1', 'test_person_1', 'test_person_1', 'test_person_1', 'test_person_1', 'test_person_1', 'test_person_1', 'test_person_1', 'test_person_1', 'test_person_1', 'test_person_1', 'test_person_1', 'test_person_1', 'test_person_1', 'test_person_1', 'test_person_1', 'test_person_1', 'test_person_1', 'test_person_1', 'test_person_1', 'test_person_1', 'test_person_1', 'test_person_1', 'test_person_1', 'test_person_1', 'test_person_1', 'test_person_1', 'test_person_1', 'test_person_1', 'test_person_1', 'test_person_1', 'test_person_1', 'test_person_1', 'mom', 'mom', 'mom', 'mom', 'mom', 'mom', 'mom', 'mom', 'mom', 'mom', 'mom', 'mom', 'mom', 'mom', 'mom', 'mom', 'mom', 'mom', 'mom', 'mom', 'mom', 'mom', 'mom', 'mom', 'mom', 'mom', 'mom', 'mom', 'mom', 'mom', 'mom', 'mom', 'mom', 'mom', 'mom', 'mom', 'mom', 'mom', 'mom', 'mom', 'mom', 'mom', 'mom', 'mom', 'mom', 'mom', 'mom', 'mom', 'mom', 'mom', 'mom', 'mom', 'mom', 'mom', 'mom', 'mom', 'mom', 'mom', 'mom', 'mom', 'mom', 'mom', 'mom', 'mom', 'mom', 'mom', 'mom', 'mom', 'mom', 'mom', 'mom', 'mom', 'mom', 'mom', 'mom', 'mom', 'mom', 'mom', 'mom', 'mom', 'mom', 'mom', 'mom', 'mom', 'mom', 'mom', 'mom', 'mom', 'mom', 'mom', 'mom', 'mom', 'mom', 'mom', 'mom', 'mom', 'mom', 'mom', 'mom', 'mom', 'mom', 'mom', 'mom', 'mom', 'mom', 'mom', 'mom', 'mom', 'mom', 'mom', 'mom', 'mom', 'mom', 'mom', 'mom', 'mom', 'mom', 'mom', 'mom', 'mom', 'mom', 'mom', 'mom', 'mom', 'mom', 'mom', 'mom', 'mom', 'mom', 'mom', 'mom', 'mom', 'mom', 'mom', 'mom', 'mom', 'mom', 'mom', 'mom', 'mom', 'mom', 'mom', 'mom', 'mom', 'mom', 'mom', 'mom', 'mom', 'mom', 'mom', 'mom', 'mom', 'mom', 'mom', 'mom', 'mom', 'mom', 'mom', 'mom', 'mom', 'mom', 'mom', 'mom', 'mom', 'mom', 'mom', 'mom', 'mom', 'mom', 'mom', 'mom', 'mom', 'mom', 'mom', 'mom', 'mom', 'mom', 'mom', 'mom', 'mom', 'mom', 'mom', 'mom', 'mom', 'mom', 'mom', 'mom', 'mom', 'mom', 'mom', 'mom', 'mom', 'mom', 'mom', 'mom', 'mom', 'mom', 'mom', 'mom', 'mom', 'mom', 'mom', 'mom', 'mom', 'mom', 'mom', 'mom', 'mom', 'mom', 'mom', 'mom', 'mom', 'mom', 'mom', 'mom', 'mom', 'mom', 'mom', 'mom', 'mom', 'mom', 'mom', 'mom', 'mom', 'mom', 'mom', 'mom', 'mom', 'mom', 'mom', 'mom', 'mom', 'mom', 'mom', 'mom', 'mom', 'mom', 'mom', 'mom', 'mom', 'mom', 'mom', 'mom', 'mom', 'mom', 'mom', 'mom', 'mom', 'mom', 'mom', 'mom', 'mom', 'mom', 'mom', 'mom', 'mom', 'mom', 'mom', 'mom', 'mom', 'mom', 'mom', 'mom', 'mom', 'mom', 'mom', 'mom', 'mom', 'mom', 'mom', 'mom', 'mom', 'mom', 'mom', 'mom', 'mom', 'mom', 'mom', 'mom', 'mom', 'mom', 'mom', 'mom', 'mom', 'mom', 'mom', 'mom', 'mom', 'mom', 'mom', 'mom', 'mom', 'mom', 'mom', 'mom', 'mom', 'mom', 'mom', 'mom', 'mom', 'stefan', 'stefan', 'stefan', 'stefan', 'stefan', 'stefan', 'stefan', 'stefan', 'stefan', 'stefan', 'stefan', 'stefan', 'stefan', 'stefan', 'stefan', 'stefan', 'stefan', 'stefan', 'stefan', 'stefan', 'stefan', 'stefan', 'stefan', 'stefan', 'stefan', 'stefan', 'stefan', 'stefan', 'stefan', 'stefan', 'stefan', 'stefan', 'stefan', 'stefan', 'stefan', 'stefan', 'stefan', 'stefan', 'stefan', 'stefan', 'stefan', 'stefan', 'stefan', 'stefan', 'stefan', 'stefan', 'stefan', 'stefan', 'stefan', 'stefan', 'stefan', 'stefan', 'stefan', 'stefan', 'stefan', 'stefan', 'stefan', 'stefan', 'stefan', 'stefan', 'stefan', 'stefan', 'stefan', 'stefan', 'stefan', 'stefan', 'stefan', 'stefan', 'stefan', 'stefan', 'stefan', 'stefan', 'stefan', 'stefan', 'stefan', 'stefan', 'stefan', 'stefan', 'stefan', 'stefan', 'stefan', 'stefan', 'stefan', 'stefan', 'stefan', 'stefan', 'stefan', 'stefan', 'stefan', 'stefan', 'stefan', 'stefan', 'stefan', 'stefan', 'stefan', 'stefan', 'stefan', 'stefan', 'stefan', 'stefan', 'stefan', 'stefan', 'stefan', 'stefan', 'stefan', 'stefan', 'stefan', 'stefan', 'stefan', 'stefan', 'stefan', 'stefan', 'stefan', 'stefan', 'stefan', 'stefan', 'stefan', 'stefan', 'stefan', 'stefan', 'stefan', 'stefan', 'stefan', 'stefan', 'stefan', 'stefan', 'stefan', 'stefan', 'stefan', 'stefan', 'stefan', 'stefan', 'stefan', 'stefan', 'stefan', 'stefan', 'stefan', 'stefan', 'stefan', 'stefan', 'stefan', 'stefan', 'stefan', 'stefan', 'stefan', 'stefan', 'stefan', 'stefan', 'stefan', 'stefan', 'stefan', 'stefan', 'stefan', 'stefan', 'stefan', 'stefan', 'stefan', 'stefan', 'stefan', 'stefan', 'stefan', 'stefan', 'stefan', 'stefan', 'stefan', 'stefan', 'stefan', 'stefan', 'stefan', 'stefan', 'stefan', 'stefan', 'stefan', 'stefan', 'stefan', 'stefan', 'stefan', 'stefan', 'stefan', 'stefan', 'stefan', 'stefan', 'stefan', 'stefan', 'stefan', 'stefan', 'stefan', 'stefan', 'stefan', 'stefan', 'stefan', 'stefan', 'stefan', 'stefan', 'stefan', 'stefan', 'stefan', 'stefan', 'stefan', 'stefan', 'stefan', 'stefan', 'stefan', 'stefan', 'stefan', 'stefan', 'stefan', 'stefan', 'stefan', 'stefan', 'stefan', 'stefan', 'stefan', 'stefan', 'stefan', 'stefan', 'stefan', 'stefan', 'stefan', 'stefan', 'stefan', 'stefan', 'stefan', 'stefan', 'stefan', 'stefan', 'stefan', 'stefan', 'stefan', 'stefan', 'stefan', 'stefan', 'stefan', 'stefan', 'stefan', 'stefan', 'stefan', 'stefan', 'stefan', 'stefan', 'stefan', 'stefan', 'stefan', 'stefan', 'stefan', 'stefan', 'stefan', 'stefan', 'stefan', 'stefan', 'stefan', 'stefan', 'stefan', 'stefan', 'stefan', 'stefan', 'stefan', 'stefan', 'stefan', 'stefan', 'stefan', 'stefan', 'stefan', 'stefan', 'stefan', 'stefan', 'stefan', 'stefan', 'stefan', 'stefan', 'stefan', 'stefan', 'stefan', 'stefan', 'stefan', 'stefan', 'stefan', 'stefan', 'stefan', 'stefan', 'stefan', 'stefan', 'stefan', 'stefan', 'stefan', 'stefan', 'stefan', 'stefan', 'stefan', 'stefan', 'stefan', 'stefan', 'stefan', 'stefan', 'stefan', 'stefan', 'stefan', 'stefan', 'stefan', 'stefan']\n",
      "{'costi': 0, 'alex': 149, 'costis': 0, 'bbb': 0, 'raluca': 0, 'test_person_1': 0, 'mom': 0, 'stefan': 0, 'unknown': 12}\n"
     ]
    },
    {
     "data": {
      "text/plain": "<Figure size 432x288 with 1 Axes>",
      "image/png": "[encoded data removed]"
     },
     "metadata": {},
     "output_type": "display_data"
    },
    {
     "name": "stdout",
     "output_type": "stream",
     "text": [
      "{'costi': 0, 'alex': 149, 'costis': 0, 'bbb': 0, 'raluca': 0, 'test_person_1': 0, 'mom': 0, 'stefan': 0, 'unknown': 12}\n"
     ]
    }
   ],
   "source": [
    "import json\n",
    "import pickle\n",
    "\n",
    "import promptlib\n",
    "import matplotlib.pyplot as plt\n",
    "from face_recognition.web_prediction import predict\n",
    "from test.video_prediction import produce_video\n",
    "from face_recognition.api import get_known_people_from_encodings, get_known_people_from_dataset\n",
    "import seaborn as sns\n",
    "\n",
    "method = input('Test by:\\n (1) Webcam\\n(2) video')\n",
    "output_faces = []\n",
    "person_name = ''\n",
    "\n",
    "if method != '1' and method != '2':\n",
    "    exit(1)\n",
    "elif method == '1':\n",
    "    name = input(\"Enter your name: \")\n",
    "    faces = predict()\n",
    "    names_in_db = get_known_people_from_dataset()\n",
    "    x = {}\n",
    "    for nume in names_in_db:\n",
    "        x[nume] = (faces.count(nume))\n",
    "    x['unknown'] = faces.count('unknown')\n",
    "    print(x)\n",
    "    keys = [j for j in x.keys()]\n",
    "    values = [j for j in x.values()]\n",
    "\n",
    "    sns.set_style('dark')\n",
    "    acc = x[name] * 100 / sum(values)\n",
    "\n",
    "    sns.barplot(x=values, y=keys).set_title(f'{name.capitalize()} - acc: {acc}%')\n",
    "    plt.show()\n",
    "\n",
    "    print(x)\n",
    "elif method == '2':\n",
    "    prompter = promptlib.Files()\n",
    "    abs_path_to_video = prompter.file()\n",
    "    person_name = abs_path_to_video.split('.')[0].split('/')[-1]\n",
    "    output_faces = produce_video(abs_path_to_video)\n",
    "    prompter.dst()\n",
    "\n",
    "    print('Done.')\n"
   ],
   "metadata": {
    "collapsed": false,
    "pycharm": {
     "name": "#%%\n"
    }
   }
  },
  {
   "cell_type": "code",
   "execution_count": 10,
   "outputs": [
    {
     "ename": "ZeroDivisionError",
     "evalue": "division by zero",
     "output_type": "error",
     "traceback": [
      "\u001B[0;31m---------------------------------------------------------------------------\u001B[0m",
      "\u001B[0;31mZeroDivisionError\u001B[0m                         Traceback (most recent call last)",
      "\u001B[0;32m<ipython-input-10-cbcc3c91bd9a>\u001B[0m in \u001B[0;36m<module>\u001B[0;34m\u001B[0m\n\u001B[1;32m     23\u001B[0m \u001B[0;34m\u001B[0m\u001B[0m\n\u001B[1;32m     24\u001B[0m \u001B[0;34m\u001B[0m\u001B[0m\n\u001B[0;32m---> 25\u001B[0;31m \u001B[0mlist\u001B[0m \u001B[0;34m=\u001B[0m \u001B[0mreturn_results\u001B[0m\u001B[0;34m(\u001B[0m\u001B[0moutput_faces\u001B[0m\u001B[0;34m,\u001B[0m \u001B[0mperson_name\u001B[0m\u001B[0;34m)\u001B[0m\u001B[0;34m\u001B[0m\u001B[0;34m\u001B[0m\u001B[0m\n\u001B[0m\u001B[1;32m     26\u001B[0m \u001B[0mprint\u001B[0m\u001B[0;34m(\u001B[0m\u001B[0mlist\u001B[0m\u001B[0;34m)\u001B[0m\u001B[0;34m\u001B[0m\u001B[0;34m\u001B[0m\u001B[0m\n\u001B[1;32m     27\u001B[0m \u001B[0;34m\u001B[0m\u001B[0m\n",
      "\u001B[0;32m<ipython-input-10-cbcc3c91bd9a>\u001B[0m in \u001B[0;36mreturn_results\u001B[0;34m(output_faces, person_name)\u001B[0m\n\u001B[1;32m     12\u001B[0m     \u001B[0mperson_name\u001B[0m \u001B[0;34m=\u001B[0m \u001B[0mperson_name\u001B[0m\u001B[0;34m.\u001B[0m\u001B[0mlower\u001B[0m\u001B[0;34m(\u001B[0m\u001B[0;34m)\u001B[0m\u001B[0;34m\u001B[0m\u001B[0;34m\u001B[0m\u001B[0m\n\u001B[1;32m     13\u001B[0m \u001B[0;34m\u001B[0m\u001B[0m\n\u001B[0;32m---> 14\u001B[0;31m     \u001B[0macc\u001B[0m \u001B[0;34m=\u001B[0m \u001B[0moutput_faces\u001B[0m\u001B[0;34m.\u001B[0m\u001B[0mcount\u001B[0m\u001B[0;34m(\u001B[0m\u001B[0mperson_name\u001B[0m\u001B[0;34m)\u001B[0m \u001B[0;34m*\u001B[0m \u001B[0;36m100\u001B[0m \u001B[0;34m/\u001B[0m \u001B[0mlen\u001B[0m\u001B[0;34m(\u001B[0m\u001B[0moutput_faces\u001B[0m\u001B[0;34m)\u001B[0m\u001B[0;34m\u001B[0m\u001B[0;34m\u001B[0m\u001B[0m\n\u001B[0m\u001B[1;32m     15\u001B[0m     \u001B[0mknown_encodings\u001B[0m \u001B[0;34m=\u001B[0m \u001B[0mget_known_people_from_encodings\u001B[0m\u001B[0;34m(\u001B[0m\u001B[0;34m)\u001B[0m\u001B[0;34m\u001B[0m\u001B[0;34m\u001B[0m\u001B[0m\n\u001B[1;32m     16\u001B[0m     \u001B[0;32mfor\u001B[0m \u001B[0mi\u001B[0m \u001B[0;32min\u001B[0m \u001B[0mrange\u001B[0m\u001B[0;34m(\u001B[0m\u001B[0mlen\u001B[0m\u001B[0;34m(\u001B[0m\u001B[0mknown_encodings\u001B[0m\u001B[0;34m)\u001B[0m\u001B[0;34m)\u001B[0m\u001B[0;34m:\u001B[0m\u001B[0;34m\u001B[0m\u001B[0;34m\u001B[0m\u001B[0m\n",
      "\u001B[0;31mZeroDivisionError\u001B[0m: division by zero"
     ]
    }
   ],
   "source": [
    "import random\n",
    "\n",
    "\n",
    "def return_results(output_faces, person_name):\n",
    "    for i in range(len(output_faces)):\n",
    "        output_faces[i] = output_faces[i].lower()\n",
    "    output_name = person_name\n",
    "\n",
    "    if person_name.startswith('stock'):\n",
    "        person_name = 'unknown'\n",
    "\n",
    "    person_name = person_name.lower()\n",
    "\n",
    "    acc = output_faces.count(person_name) * 100 / len(output_faces)\n",
    "    known_encodings = get_known_people_from_encodings()\n",
    "    for i in range(len(known_encodings)):\n",
    "        known_encodings[i] = known_encodings[i].lower()\n",
    "\n",
    "    names = {'unknown': output_faces.count('unknown')}\n",
    "    for name in known_encodings:\n",
    "        names[name] = output_faces.count(name.lower())\n",
    "    return [output_name.lower(), names, acc]\n",
    "\n",
    "\n",
    "list = return_results(output_faces, person_name)\n",
    "print(list)\n",
    "\n",
    "with open(f'results/{list[0]}.data', 'wb') as filehandle:\n",
    "    # store the data as binary data stream\n",
    "    pickle.dump(list, filehandle)"
   ],
   "metadata": {
    "collapsed": false,
    "pycharm": {
     "name": "#%%\n"
    }
   }
  },
  {
   "cell_type": "code",
   "execution_count": null,
   "outputs": [],
   "source": [
    "import pickle\n",
    "import matplotlib.pyplot as plt\n",
    "import os\n",
    "import seaborn as sns\n",
    "\n",
    "\n",
    "def plot_all_data():\n",
    "    directory = 'results'\n",
    "    objs = []\n",
    "    for filename in os.listdir(directory):\n",
    "        f = os.path.join(directory, filename)\n",
    "        if os.path.isfile(f) and filename.endswith('data'):\n",
    "            with open(f, 'rb') as filehandle:\n",
    "                # read the data as binary data stream\n",
    "                while 1:\n",
    "                    try:\n",
    "                        objs.append(pickle.load(filehandle))\n",
    "                    except EOFError:\n",
    "                        break\n",
    "    sns.set_style('darkgrid')\n",
    "    for results in objs:\n",
    "        actual_name = results[0]\n",
    "        output_faces = results[1]\n",
    "        acc = results[2]\n",
    "        print('Accuracy= ', acc, '%')\n",
    "\n",
    "        keys = [j for j in output_faces.keys()]\n",
    "        values = [j for j in output_faces.values()]\n",
    "        sns.barplot(x=values, y=keys).set_title(actual_name)\n",
    "        plt.show()\n",
    "\n",
    "\n",
    "plot_all_data()"
   ],
   "metadata": {
    "collapsed": false,
    "pycharm": {
     "name": "#%%\n"
    }
   }
  },
  {
   "cell_type": "code",
   "execution_count": null,
   "outputs": [],
   "source": [],
   "metadata": {
    "collapsed": false,
    "pycharm": {
     "name": "#%%\n"
    }
   }
  }
 ],
 "metadata": {
  "kernelspec": {
   "display_name": "Python 3",
   "language": "python",
   "name": "python3"
  },
  "language_info": {
   "codemirror_mode": {
    "name": "ipython",
    "version": 2
   },
   "file_extension": ".py",
   "mimetype": "text/x-python",
   "name": "python",
   "nbconvert_exporter": "python",
   "pygments_lexer": "ipython2",
   "version": "2.7.6"
  }
 },
 "nbformat": 4,
 "nbformat_minor": 0
}