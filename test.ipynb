{
 "cells": [
  {
   "cell_type": "markdown",
   "source": [
    "## Add a new test"
   ],
   "metadata": {
    "collapsed": false
   }
  },
  {
   "cell_type": "code",
   "execution_count": 6,
   "outputs": [
    {
     "name": "stdout",
     "output_type": "stream",
     "text": [
      "Writing frame 10 / 478\n",
      "Writing frame 20 / 478\n",
      "Writing frame 30 / 478\n",
      "Writing frame 40 / 478\n",
      "Writing frame 50 / 478\n",
      "Writing frame 60 / 478\n",
      "Writing frame 70 / 478\n",
      "Writing frame 80 / 478\n",
      "Writing frame 90 / 478\n",
      "Writing frame 100 / 478\n",
      "Writing frame 110 / 478\n",
      "Writing frame 120 / 478\n",
      "Writing frame 130 / 478\n",
      "Writing frame 140 / 478\n",
      "Writing frame 150 / 478\n",
      "Writing frame 160 / 478\n",
      "Writing frame 170 / 478\n",
      "Writing frame 180 / 478\n",
      "Writing frame 190 / 478\n",
      "Writing frame 200 / 478\n",
      "Writing frame 210 / 478\n",
      "Writing frame 220 / 478\n",
      "Writing frame 230 / 478\n",
      "Writing frame 240 / 478\n",
      "Writing frame 250 / 478\n",
      "Writing frame 260 / 478\n",
      "Writing frame 270 / 478\n",
      "Writing frame 280 / 478\n",
      "Writing frame 290 / 478\n",
      "Writing frame 300 / 478\n",
      "Writing frame 310 / 478\n",
      "Writing frame 320 / 478\n",
      "Writing frame 330 / 478\n",
      "Writing frame 340 / 478\n",
      "Writing frame 350 / 478\n",
      "Writing frame 360 / 478\n",
      "Writing frame 370 / 478\n",
      "Writing frame 380 / 478\n",
      "Writing frame 390 / 478\n",
      "Writing frame 400 / 478\n",
      "Writing frame 410 / 478\n",
      "Writing frame 420 / 478\n",
      "Writing frame 430 / 478\n",
      "Writing frame 440 / 478\n",
      "Writing frame 450 / 478\n",
      "Writing frame 460 / 478\n",
      "Writing frame 470 / 478\n",
      "Done.\n"
     ]
    }
   ],
   "source": [
    "\n",
    "import promptlib\n",
    "import matplotlib.pyplot as plt\n",
    "from face_recognition.web_prediction import predict\n",
    "from test.video_prediction import produce_video\n",
    "from face_recognition.api import get_known_people_from_encodings\n",
    "\n",
    "method = input('Test by:\\n (1) Webcam\\n(2) video')\n",
    "output_faces = []\n",
    "person_name = ''\n",
    "\n",
    "if method != '1' and method != '2':\n",
    "    exit(1)\n",
    "elif method == '1':\n",
    "    predict()\n",
    "elif method == '2':\n",
    "    prompter = promptlib.Files()\n",
    "    abs_path_to_video = prompter.file()\n",
    "    person_name = abs_path_to_video.split('.')[0].split('/')[-1]\n",
    "    output_faces = produce_video(abs_path_to_video)\n",
    "    print('Done.')\n"
   ],
   "metadata": {
    "collapsed": false,
    "pycharm": {
     "name": "#%%\n"
    }
   }
  },
  {
   "cell_type": "code",
   "execution_count": 17,
   "outputs": [
    {
     "name": "stdout",
     "output_type": "stream",
     "text": [
      "Accuracy=  100.0 %\n",
      "{'costi': 460, 'alex': 0, 'costis': 0, 'raluca': 0, 'tibi': 0, 'stefan': 0}\n"
     ]
    },
    {
     "data": {
      "text/plain": "<Figure size 432x288 with 1 Axes>",
      "image/png": "[encoded data removed]"
     },
     "metadata": {
      "needs_background": "light"
     },
     "output_type": "display_data"
    }
   ],
   "source": [
    "for i in range(len(output_faces)):\n",
    "    output_faces[i] = output_faces[i].lower()\n",
    "\n",
    "print('Accuracy= ', output_faces.count(person_name) * 100 / len(output_faces), '%')\n",
    "\n",
    "known_encodings = get_known_people_from_encodings()\n",
    "for i in range(len(known_encodings)):\n",
    "    known_encodings[i] = known_encodings[i].lower()\n",
    "\n",
    "names = {}\n",
    "for name in known_encodings:\n",
    "    names[name] = output_faces.count(name.lower())\n",
    "\n",
    "print(names)\n",
    "plt.bar(*zip(*names.items()))\n",
    "plt.show()"
   ],
   "metadata": {
    "collapsed": false,
    "pycharm": {
     "name": "#%%\n"
    }
   }
  }
 ],
 "metadata": {
  "kernelspec": {
   "display_name": "Python 3",
   "language": "python",
   "name": "python3"
  },
  "language_info": {
   "codemirror_mode": {
    "name": "ipython",
    "version": 2
   },
   "file_extension": ".py",
   "mimetype": "text/x-python",
   "name": "python",
   "nbconvert_exporter": "python",
   "pygments_lexer": "ipython2",
   "version": "2.7.6"
  }
 },
 "nbformat": 4,
 "nbformat_minor": 0
}